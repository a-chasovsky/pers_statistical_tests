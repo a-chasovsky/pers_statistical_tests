{
 "cells": [
  {
   "cell_type": "code",
   "execution_count": 1,
   "id": "ce655274-7e30-4a17-8373-b67477a45bb4",
   "metadata": {
    "tags": []
   },
   "outputs": [],
   "source": [
    "import numpy as np\n",
    "import pandas as pd\n",
    "import statsmodels.api as sm\n",
    "import matplotlib.pyplot as plt\n",
    "import seaborn as sns\n",
    "import datetime as dt\n",
    "import random\n",
    "import math\n",
    "import time\n",
    "import os\n",
    "\n",
    "from scipy import stats\n",
    "from scipy.stats import permutation_test\n",
    "from scipy.stats import chisquare\n",
    "from scipy.stats import kstest"
   ]
  },
  {
   "cell_type": "code",
   "execution_count": 2,
   "id": "fda24b72-8273-4d88-a274-982d6e0df83c",
   "metadata": {
    "executionInfo": {
     "elapsed": 80,
     "status": "aborted",
     "timestamp": 1675237549087,
     "user": {
      "displayName": "Alexander Chasovsky",
      "userId": "02150901659695146649"
     },
     "user_tz": -180
    },
    "id": "11782908-52b9-45c2-9c92-60e6bad4c71b",
    "tags": []
   },
   "outputs": [],
   "source": [
    "palette = ['#6D9BC3', '#AF4035', '#00937F', '#F0DD67', '#7B5141',\n",
    "           '#4A4E69', '#B86A84', '#587B7F', '#9DA3A6', '#505050']"
   ]
  },
  {
   "cell_type": "code",
   "execution_count": 3,
   "id": "6e9461c1-36b3-4408-885e-ba2ed96c648f",
   "metadata": {
    "executionInfo": {
     "elapsed": 81,
     "status": "aborted",
     "timestamp": 1675237549088,
     "user": {
      "displayName": "Alexander Chasovsky",
      "userId": "02150901659695146649"
     },
     "user_tz": -180
    },
    "id": "2000e3eb-b3d1-4196-a9ce-3fc0b4f161e2",
    "tags": []
   },
   "outputs": [],
   "source": [
    "custom_params = {\n",
    "    'figure.figsize': (6, 4), # ширина и высота в дюймах\n",
    "    'axes.titlesize': 13, # заголовок\n",
    "    'axes.labelsize': 13, # оси\n",
    "    'xtick.labelsize': 11, # деления оси X\n",
    "    'ytick.labelsize': 11, # деления оси Y\n",
    "    'axes.spines.left': False, # не отображать ось Y\n",
    "    'axes.spines.right': False, # не отображать правую рамку \n",
    "    'axes.spines.top': False, # не отображать верхнюю рамку\n",
    "    'axes.spines.bottom': True, # отображать нижнюю рамку\n",
    "    'grid.color': '0.9',\n",
    "    'grid.linestyle': ':',\n",
    "    'lines.linewidth': 2,\n",
    "}\n",
    "\n",
    "sns.set_theme(style='whitegrid', palette=palette, rc=custom_params)\n",
    "\n",
    "%matplotlib inline\n",
    "\n",
    "seed = 42"
   ]
  },
  {
   "cell_type": "markdown",
   "id": "6ec3974c-9741-4cc5-bbc2-cae3372c8ca8",
   "metadata": {},
   "source": [
    "### Data"
   ]
  },
  {
   "cell_type": "code",
   "execution_count": 4,
   "id": "dce2ffc7-4f83-4f66-abfa-b3e7cbdc2f40",
   "metadata": {
    "tags": []
   },
   "outputs": [],
   "source": [
    "x = np.random.poisson(150, 10000)\n",
    "y = np.random.lognormal(5, 0.5, 10000)"
   ]
  },
  {
   "cell_type": "code",
   "execution_count": 5,
   "id": "8fc80aed-081e-415d-a687-22350deb5781",
   "metadata": {
    "tags": []
   },
   "outputs": [],
   "source": [
    "data = pd.DataFrame([x,y]).T.rename(columns={0: 'x', 1: 'y'})"
   ]
  },
  {
   "cell_type": "code",
   "execution_count": 6,
   "id": "3bf6fd89-d147-4f62-a606-42e3ef2143e9",
   "metadata": {
    "tags": []
   },
   "outputs": [
    {
     "data": {
      "text/html": [
       "<div>\n",
       "<style scoped>\n",
       "    .dataframe tbody tr th:only-of-type {\n",
       "        vertical-align: middle;\n",
       "    }\n",
       "\n",
       "    .dataframe tbody tr th {\n",
       "        vertical-align: top;\n",
       "    }\n",
       "\n",
       "    .dataframe thead th {\n",
       "        text-align: right;\n",
       "    }\n",
       "</style>\n",
       "<table border=\"1\" class=\"dataframe\">\n",
       "  <thead>\n",
       "    <tr style=\"text-align: right;\">\n",
       "      <th></th>\n",
       "      <th>x</th>\n",
       "      <th>y</th>\n",
       "    </tr>\n",
       "  </thead>\n",
       "  <tbody>\n",
       "    <tr>\n",
       "      <th>0</th>\n",
       "      <td>156.0</td>\n",
       "      <td>54.336161</td>\n",
       "    </tr>\n",
       "    <tr>\n",
       "      <th>1</th>\n",
       "      <td>160.0</td>\n",
       "      <td>94.351239</td>\n",
       "    </tr>\n",
       "    <tr>\n",
       "      <th>2</th>\n",
       "      <td>133.0</td>\n",
       "      <td>232.376758</td>\n",
       "    </tr>\n",
       "    <tr>\n",
       "      <th>3</th>\n",
       "      <td>139.0</td>\n",
       "      <td>126.298303</td>\n",
       "    </tr>\n",
       "    <tr>\n",
       "      <th>4</th>\n",
       "      <td>142.0</td>\n",
       "      <td>187.854253</td>\n",
       "    </tr>\n",
       "  </tbody>\n",
       "</table>\n",
       "</div>"
      ],
      "text/plain": [
       "       x           y\n",
       "0  156.0   54.336161\n",
       "1  160.0   94.351239\n",
       "2  133.0  232.376758\n",
       "3  139.0  126.298303\n",
       "4  142.0  187.854253"
      ]
     },
     "execution_count": 6,
     "metadata": {},
     "output_type": "execute_result"
    }
   ],
   "source": [
    "data.head()"
   ]
  },
  {
   "cell_type": "code",
   "execution_count": 7,
   "id": "d62d0041-054b-4808-81ce-7aafc4bea325",
   "metadata": {
    "tags": []
   },
   "outputs": [
    {
     "data": {
      "text/plain": [
       "149.9091"
      ]
     },
     "execution_count": 7,
     "metadata": {},
     "output_type": "execute_result"
    }
   ],
   "source": [
    "x.mean()"
   ]
  },
  {
   "cell_type": "code",
   "execution_count": 8,
   "id": "04e0d87b-72ba-4c2d-993a-83fb63cb5492",
   "metadata": {
    "tags": []
   },
   "outputs": [
    {
     "data": {
      "text/plain": [
       "167.7498234887043"
      ]
     },
     "execution_count": 8,
     "metadata": {},
     "output_type": "execute_result"
    }
   ],
   "source": [
    "y.mean()"
   ]
  },
  {
   "cell_type": "code",
   "execution_count": 9,
   "id": "68ed4bc9-d7e0-4f99-8398-d3d50866ed4a",
   "metadata": {
    "tags": []
   },
   "outputs": [
    {
     "data": {
      "text/plain": [
       "-17.8407234887043"
      ]
     },
     "execution_count": 9,
     "metadata": {},
     "output_type": "execute_result"
    }
   ],
   "source": [
    "x.mean() - y.mean()"
   ]
  },
  {
   "cell_type": "code",
   "execution_count": 10,
   "id": "f8700ac7-9063-4747-9e8e-ff4edf37d71f",
   "metadata": {
    "tags": []
   },
   "outputs": [
    {
     "data": {
      "image/png": "[encoded data removed]",
      "text/plain": [
       "<Figure size 600x400 with 1 Axes>"
      ]
     },
     "metadata": {},
     "output_type": "display_data"
    }
   ],
   "source": [
    "ax = sns.histplot(data=data, kde=True)\n",
    "\n",
    "ax.tick_params(axis='both', which='major', labelsize=9)\n",
    "ax.set(xlabel=None)\n",
    "ax.set_ylabel('Count', fontsize=9, weight='bold')\n",
    "ax.yaxis.set_label_coords(-0.11,0.46)"
   ]
  },
  {
   "cell_type": "markdown",
   "id": "a04830b0-bace-4a89-88ef-4fd84b37fd07",
   "metadata": {},
   "source": [
    "### Poisson Bootstrap"
   ]
  },
  {
   "cell_type": "markdown",
   "id": "36e1e8d1-76dd-4b54-80ea-ae7c4c8b465b",
   "metadata": {},
   "source": [
    "Проверяет гипотезу о различии общегрупповых средних."
   ]
  },
  {
   "cell_type": "code",
   "execution_count": 11,
   "id": "2425aa22-5c9b-4adb-99dc-82a2c9943a31",
   "metadata": {
    "tags": []
   },
   "outputs": [],
   "source": [
    "def test_poisson_bootstrap(data1, data2, n_bootstrap=10000, ci=[2.5,97.5],\n",
    "                           plot=True, execution_time=False, results_dict=True, means_plots=True):\n",
    "    \n",
    "    t_start = time.time()\n",
    "    \n",
    "    mean1 = np.mean(data1)\n",
    "    mean2 = np.mean(data2)\n",
    "\n",
    "    means_diff = mean1 - mean2\n",
    "\n",
    "    poisson_bootstraps1 = stats.poisson(1).rvs(\n",
    "        (n_bootstrap, len(data1))).astype(np.int64)\n",
    "\n",
    "    poisson_bootstraps2 = stats.poisson(1).rvs(\n",
    "        (n_bootstrap, len(data2))).astype(np.int64)\n",
    "\n",
    "    mean1_boot = (poisson_bootstraps1*data1).sum(axis=1) / len(data1)\n",
    "    mean2_boot = (poisson_bootstraps2*data2).sum(axis=1) / len(data2)\n",
    "    means_diff_boot = mean1_boot - mean2_boot\n",
    "    \n",
    "    lower_boundary, upper_boundary = np.percentile(means_diff_boot, ci)\n",
    "    \n",
    "    means_dict = {\n",
    "        'mean1': mean1_boot,\n",
    "        'mean2': mean2_boot,\n",
    "        'means_diff': means_diff_boot\n",
    "    }\n",
    "    \n",
    "    results = {\n",
    "        'Lower Boundary': lower_boundary, \n",
    "        'Means Difference': means_diff, \n",
    "        'Upper Boundary': upper_boundary\n",
    "    }\n",
    "\n",
    "    if plot:\n",
    "\n",
    "        ax = sns.histplot(\n",
    "            means_diff_boot,\n",
    "            color=palette[0], alpha=0.8\n",
    "        )\n",
    "\n",
    "        ylim = ax.get_ylim()[1]\n",
    "        \n",
    "        ax.vlines(\n",
    "            0, 0, ylim*0.1,\n",
    "            color=palette[1], linewidth=2.5\n",
    "        )\n",
    "        ax.vlines(\n",
    "            lower_boundary, 0, ylim*0.15,\n",
    "            color=palette[9], linewidth=1.5\n",
    "        )\n",
    "        ax.vlines(\n",
    "            upper_boundary, 0, ylim*0.15,\n",
    "            color=palette[9], linewidth=1.5\n",
    "        ) \n",
    "\n",
    "        ax.tick_params(axis='both', which='major', labelsize=9)\n",
    "        ax.set_xlabel('Means Difference', fontsize=9, weight='bold')\n",
    "        ax.set_ylabel('Count', fontsize=9, weight='bold')\n",
    "        ax.xaxis.set_label_coords(0.5, -0.13)\n",
    "        ax.yaxis.set_label_coords(-0.11, 0.46)\n",
    "        \n",
    "        plt.show()\n",
    "        \n",
    "    # the boundaries, measured by 1 and 99 percentiles,\n",
    "    # are equvivalent of p-value probabiblities boundaries an 0.05 significant level;\n",
    "    # if difference in means is out of boundaries range, we reject null hypotesis - \n",
    "    # it means that the difference if statistical significant\n",
    "    if lower_boundary < 0 < upper_boundary:\n",
    "        significancy = 'No'\n",
    "    else: \n",
    "        significancy = 'Yes'\n",
    "    \n",
    "    # check with Kolmogorov–Smirnov test if distribution of p-values is normal\n",
    "    # (previously standardize means differences with stats.zscore)\n",
    "    pvalue_ks = stats.kstest(stats.zscore(means_diff_boot), stats.norm.cdf).pvalue\n",
    "    \n",
    "    # Kolmogorov–Smirnov test null hypotesis: distribution of simulation pvalues is normal\n",
    "    # if pvalue due Kolmogorov–Smirnov test <= 0.05, \n",
    "    # we reject null hypotesis that distribution of pvalues due simulation is normal;  \n",
    "    if pvalue_ks <= 0.05:\n",
    "        distribution = 'not '\n",
    "    else:\n",
    "        distribution = ''\n",
    "    \n",
    "    \n",
    "    if execution_time:\n",
    "        \n",
    "        execution_time = np.round(time.time() - t_start, 2)\n",
    "        execution_time_formated = \\\n",
    "                         str(dt.timedelta(seconds=np.round(time.time() - t_start)))\n",
    "        \n",
    "        print('Execution time: {}'.format(execution_time_formated))\n",
    "        print('Execution time (seconds): {}'.format(execution_time, '\\n'))\n",
    "    \n",
    "    print('\\n'\n",
    "          'Significancy: \\033[1m{0}\\033[0m' '\\n' '\\n' \n",
    "          \"Means Differences' distribution: {1}normal.\" '\\n' \n",
    "          'Kolmogorov–Smirnov test p-value: {2}' '\\n' '\\n'\n",
    "          'Mean1: {3}' '\\n'\n",
    "          'Mean2: {4}' '\\n' '\\n'\n",
    "          'Lower Boundary: {5}' '\\n'\n",
    "          'Means Difference: {6}' '\\n'\n",
    "          'Upper Boundary: {7}'.format(significancy,\n",
    "                                       distribution,\n",
    "                                       np.round(pvalue_ks, 2),\n",
    "                                       mean1,\n",
    "                                       mean2,\n",
    "                                       lower_boundary,\n",
    "                                       means_diff,\n",
    "                                       upper_boundary))\n",
    "    \n",
    "    plt.show()\n",
    "    \n",
    "    if means_plots:\n",
    "        \n",
    "        print('')\n",
    "        \n",
    "        ax = sns.histplot(\n",
    "            mean1_boot,\n",
    "            color=palette[0], alpha=0.6\n",
    "        )\n",
    "        \n",
    "        ax = sns.histplot(\n",
    "            mean2_boot, \n",
    "            color=palette[1], alpha=0.6\n",
    "        )\n",
    "        \n",
    "        ax.tick_params(axis='both', which='major', labelsize=9)\n",
    "        ax.set(xlabel=None)\n",
    "        ax.set_ylabel('Count', fontsize=9, weight='bold')\n",
    "        ax.yaxis.set_label_coords(-0.11,0.46)\n",
    "        \n",
    "        ylim = ax.get_ylim()[1]\n",
    "        \n",
    "        ax.vlines(\n",
    "            np.mean(mean1_boot), 0, ylim,\n",
    "            color=palette[9], linewidth=1\n",
    "        )\n",
    "        ax.vlines(\n",
    "            np.mean(mean2_boot), 0, ylim,\n",
    "            color=palette[9], linewidth=1\n",
    "        )\n",
    "        \n",
    "        plt.show()\n",
    "    \n",
    "    if results_dict:\n",
    "        return results, means_dict"
   ]
  },
  {
   "cell_type": "code",
   "execution_count": 12,
   "id": "3db7b353-1fe8-405d-b3f2-49b934472598",
   "metadata": {
    "tags": []
   },
   "outputs": [],
   "source": [
    "# convert to np.array\n",
    "\n",
    "# x = x.to_numpy()\n",
    "# y = y.to_numpy()"
   ]
  },
  {
   "cell_type": "code",
   "execution_count": 13,
   "id": "8ddc2f4a-383f-4a04-9929-6a9584940e56",
   "metadata": {
    "tags": []
   },
   "outputs": [
    {
     "data": {
      "image/png": "[encoded data removed]",
      "text/plain": [
       "<Figure size 600x400 with 1 Axes>"
      ]
     },
     "metadata": {},
     "output_type": "display_data"
    },
    {
     "name": "stdout",
     "output_type": "stream",
     "text": [
      "Execution time: 0:00:22\n",
      "Execution time (seconds): 21.91\n",
      "\n",
      "Significancy: \u001b[1mYes\u001b[0m\n",
      "\n",
      "Means Differences' distribution: normal.\n",
      "Kolmogorov–Smirnov test p-value: 0.93\n",
      "\n",
      "Mean1: 149.9091\n",
      "Mean2: 167.7498234887043\n",
      "\n",
      "Lower Boundary: -22.667760039397663\n",
      "Means Difference: -17.8407234887043\n",
      "Upper Boundary: -13.166890480254184\n",
      "\n"
     ]
    },
    {
     "data": {
      "image/png": "[encoded data removed]",
      "text/plain": [
       "<Figure size 600x400 with 1 Axes>"
      ]
     },
     "metadata": {},
     "output_type": "display_data"
    }
   ],
   "source": [
    "poisson_dict, poisson_means_dict = test_poisson_bootstrap(\n",
    "    data1=x,\n",
    "    data2=y,\n",
    "    n_bootstrap=10000,\n",
    "    plot=True,\n",
    "    execution_time=True,\n",
    "    results_dict=True,\n",
    "    means_plots=True\n",
    ")"
   ]
  },
  {
   "cell_type": "markdown",
   "id": "7ed6cbed-3ab9-407e-be42-93d31016db55",
   "metadata": {},
   "source": [
    "### T-test"
   ]
  },
  {
   "cell_type": "markdown",
   "id": "0005227f-8b0e-4b80-81da-42b577a052c3",
   "metadata": {},
   "source": [
    "Проверяет гипотезу о статистически значимых различиях двух выборок.\n",
    "\n",
    "Нулевая гипотеза отвергается если получившееся распределение p-values непрерывное и равномерное (**continuous uniform distribution** or **rectangular distribution**) \n",
    "\n",
    "Критерий Колмогорова-Смирнова показывает, отличается ли получившееся распределение p-значений от непрерывного равномерного."
   ]
  },
  {
   "cell_type": "code",
   "execution_count": 14,
   "id": "fe096390-da67-46ff-9a92-e1a83e462c4c",
   "metadata": {},
   "outputs": [],
   "source": [
    "def test_simulation_ttest(data1, data2, sample_length=50, n_samples=10000,\n",
    "                          replace=True, execution_time=True, plot=True):\n",
    "    \n",
    "    t_start = time.time() \n",
    "    array = np.array([])\n",
    "    \n",
    "    for i in range(n_samples):\n",
    "        \n",
    "        sampling1 = data1.sample(sample_length, replace=replace)\n",
    "        sampling2 = data2.sample(sample_length, replace=replace)\n",
    "        \n",
    "        pvalue_simulation = stats.ttest_ind(\n",
    "            sampling1,\n",
    "            sampling2,\n",
    "            equal_var=False\n",
    "        ).pvalue\n",
    "        \n",
    "        array = np.append(array, pvalue_simulation)\n",
    "    \n",
    "    # number of p-values less or equal 0.05\n",
    "    p_significant = np.sum(np.where(array <= 0.05, 1, 0))\n",
    "    \n",
    "    # fraction of p-values less or equal 0.05\n",
    "    p_significant_fraction = np.around(p_significant / len(array), 2)\n",
    "    \n",
    "    # check with Kolmogorov–Smirnov test if distribution of p-values is uniform\n",
    "    uniform_distribution = stats.uniform.rvs(size=10000, random_state=42)\n",
    "    pvalue_ks = stats.kstest(array, uniform_distribution).pvalue\n",
    "    \n",
    "    # Kolmogorov–Smirnov test null hypotesis: distribution of simulation pvalues is uniform\n",
    "    # if pvalue due Kolmogorov–Smirnov test <= 0.05, \n",
    "    # we reject null hypotesis that distribution of pvalues due simulation is unoform;\n",
    "    # also we have to check, that fractions ov simulation pvalues is more than\n",
    "    # 0.05 - it says, that simulation distribution skewed to pvalues <= 0.05 side\n",
    "    significancy = 'Yes' if pvalue_ks <= 0.05 and \\\n",
    "                            p_significant_fraction >= 0.05 else 'No'\n",
    "    \n",
    "    if significancy == 'Yes':\n",
    "        distribution = 'not '\n",
    "    else:\n",
    "        distribution = ''\n",
    "    \n",
    "    if plot:\n",
    "    \n",
    "        plt.figure(figsize=(6,3))\n",
    "\n",
    "        ax = sns.histplot(\n",
    "            data=array,\n",
    "            bins=20, alpha=1\n",
    "        )\n",
    "        \n",
    "        ax.set_title('Simulation Results', fontsize=11, weight='bold')\n",
    "        ax.tick_params(axis='both', which='major', labelsize=9)\n",
    "        ax.set_xlabel('P-value', fontsize=9, weight='bold')\n",
    "        ax.set_ylabel('Count', fontsize=9, weight='bold')\n",
    "        ax.xaxis.set_label_coords(0.5, -0.15)\n",
    "        ax.yaxis.set_label_coords(-0.11,0.46)\n",
    "    \n",
    "    plt.show()\n",
    "    \n",
    "    if execution_time:\n",
    "        \n",
    "        execution_time = np.round(time.time() - t_start, 2)\n",
    "        execution_time_formated = str(dt.timedelta(seconds=np.round(time.time() - t_start)))\n",
    "        \n",
    "        print('Execution time: {}'.format(execution_time_formated))\n",
    "        print('Execution time (seconds): {}'.format(execution_time, '\\n'))\n",
    "        \n",
    "    print('\\n' \\\n",
    "          'Significancy: \\033[1m{0}\\033[0m' '\\n' '\\n' \n",
    "          'Fraction of p-values (0.05 or less): {1}' '\\n' '\\n' \n",
    "          \"P-value's distribution: {2}uniform.\" '\\n' \n",
    "          'Kolmogorov–Smirnov test p-value: {3}'  \n",
    "          .format(significancy, p_significant_fraction, distribution, pvalue_ks)) "
   ]
  },
  {
   "cell_type": "code",
   "execution_count": 15,
   "id": "716dfd36-2789-4497-bc5d-362d2c83af90",
   "metadata": {},
   "outputs": [],
   "source": [
    "x = pd.Series(x)\n",
    "y = pd.Series(y)"
   ]
  },
  {
   "cell_type": "code",
   "execution_count": 16,
   "id": "8ac33db0-0a4b-4a1f-8e0f-6f54a1f4d1b4",
   "metadata": {},
   "outputs": [],
   "source": [
    "sample_length = 100\n",
    "n_samples = 10000"
   ]
  },
  {
   "cell_type": "code",
   "execution_count": 17,
   "id": "e31e3db9-46d4-44bc-968a-101e37395cb8",
   "metadata": {
    "tags": []
   },
   "outputs": [
    {
     "data": {
      "image/png": "[encoded data removed]",
      "text/plain": [
       "<Figure size 600x300 with 1 Axes>"
      ]
     },
     "metadata": {},
     "output_type": "display_data"
    },
    {
     "name": "stdout",
     "output_type": "stream",
     "text": [
      "Execution time: 0:00:06\n",
      "Execution time (seconds): 5.83\n",
      "\n",
      "Significancy: \u001b[1mYes\u001b[0m\n",
      "\n",
      "Fraction of p-values (0.05 or less): 0.5\n",
      "\n",
      "P-value's distribution: not uniform.\n",
      "Kolmogorov–Smirnov test p-value: 0.0\n"
     ]
    }
   ],
   "source": [
    "test_simulation_ttest(\n",
    "    data1=x, data2=y,\n",
    "    sample_length=sample_length,\n",
    "    n_samples=n_samples,\n",
    "    replace=True,\n",
    "    execution_time=True,\n",
    "    plot=True\n",
    ")"
   ]
  },
  {
   "cell_type": "markdown",
   "id": "ff6ab957-b91f-48e2-a461-23471608e355",
   "metadata": {},
   "source": [
    "### Permutation Test"
   ]
  },
  {
   "cell_type": "markdown",
   "id": "4241012c-847b-476e-a46a-7624451456df",
   "metadata": {},
   "source": [
    "Проеряет гипотезу о статистически значимом различии двух выборок.\n",
    "\n",
    "**Randomized**=True - for big datasets"
   ]
  },
  {
   "cell_type": "code",
   "execution_count": 18,
   "id": "87a688ce-7b1e-4a1c-9267-33074ee194ac",
   "metadata": {},
   "outputs": [],
   "source": [
    "def statistic(data1, data2, axis=0):\n",
    "    return np.mean(data1, axis=axis) - np.mean(data2, axis=axis)\n",
    "\n",
    "def test_permutation(data1, data2, statistic, vectorized=True, randomized=True, \n",
    "                     n_resamples=10000, execution_time=True):\n",
    "    \n",
    "    t_start = time.time()\n",
    "    \n",
    "    resamples = n_resamples if randomized else np.inf    \n",
    "    \n",
    "    res = stats.permutation_test(\n",
    "        (data1, data2),\n",
    "        statistic,\n",
    "        vectorized=True, \n",
    "        n_resamples=resamples,\n",
    "        alternative='less'\n",
    "    )\n",
    "    \n",
    "    diff = res.statistic\n",
    "    pvalue = res.pvalue\n",
    "    \n",
    "    # if p-value <= 0.05 we reject null hypotesis - \n",
    "    # the difference if statistical significant\n",
    "    significancy = 'Yes' if pvalue <= 0.05 else 'No'\n",
    "        \n",
    "    \n",
    "    if execution_time:\n",
    "        \n",
    "        execution_time = np.round(time.time() - t_start, 2)\n",
    "        execution_time_formated = str(dt.timedelta(seconds=np.round(time.time() - t_start)))\n",
    "        \n",
    "        print('Execution time: {}'.format(execution_time_formated))\n",
    "        print('Execution time (seconds): {}'.format(execution_time, '\\n'))\n",
    "    \n",
    "    print('\\n' \\\n",
    "          'Significancy: \\033[1m{0}\\033[0m' '\\n' '\\n' \\\n",
    "          'P-value: {1}' '\\n' \\\n",
    "          'Statistic: {2}' '\\n' '\\n' \\\n",
    "          'Statistic type: Means Difference' '\\n' \\\n",
    "          .format(significancy, pvalue, diff))\n",
    "    \n",
    "    return res"
   ]
  },
  {
   "cell_type": "code",
   "execution_count": 19,
   "id": "c5c1a98a-f89d-43b2-8a05-5153248430c5",
   "metadata": {},
   "outputs": [
    {
     "name": "stdout",
     "output_type": "stream",
     "text": [
      "Execution time: 0:00:21\n",
      "Execution time (seconds): 21.46\n",
      "\n",
      "Significancy: \u001b[1mYes\u001b[0m\n",
      "\n",
      "P-value: 9.999000099990002e-05\n",
      "Statistic: -17.8407234887043\n",
      "\n",
      "Statistic type: Means Difference\n",
      "\n"
     ]
    }
   ],
   "source": [
    "res = test_permutation(\n",
    "    data1=x,\n",
    "    data2=y,\n",
    "    statistic=statistic,\n",
    "    vectorized=True,\n",
    "    randomized=True,\n",
    "    execution_time=True\n",
    ")"
   ]
  },
  {
   "cell_type": "code",
   "execution_count": 20,
   "id": "b83982eb-51e2-4545-a2c5-1bd6baacdbc7",
   "metadata": {},
   "outputs": [
    {
     "data": {
      "text/plain": [
       "-17.8407234887043"
      ]
     },
     "execution_count": 20,
     "metadata": {},
     "output_type": "execute_result"
    }
   ],
   "source": [
    "res.statistic"
   ]
  },
  {
   "cell_type": "code",
   "execution_count": 21,
   "id": "c40ceb67-badb-4606-8af4-a0e579f2fda9",
   "metadata": {},
   "outputs": [
    {
     "data": {
      "text/plain": [
       "9.999000099990002e-05"
      ]
     },
     "execution_count": 21,
     "metadata": {},
     "output_type": "execute_result"
    }
   ],
   "source": [
    "res.pvalue"
   ]
  },
  {
   "cell_type": "code",
   "execution_count": 22,
   "id": "fedac62b-5a58-4bde-acaf-15776a29bad2",
   "metadata": {
    "tags": []
   },
   "outputs": [
    {
     "data": {
      "text/plain": [
       "array([0.10291462, 0.14986732, 0.0089876 , ..., 1.14711467, 0.29473166,\n",
       "       0.37560721])"
      ]
     },
     "execution_count": 22,
     "metadata": {},
     "output_type": "execute_result"
    }
   ],
   "source": [
    "res.null_distribution"
   ]
  }
 ],
 "metadata": {
  "kernelspec": {
   "display_name": "Python 3 (ipykernel)",
   "language": "python",
   "name": "python3"
  },
  "language_info": {
   "codemirror_mode": {
    "name": "ipython",
    "version": 3
   },
   "file_extension": ".py",
   "mimetype": "text/x-python",
   "name": "python",
   "nbconvert_exporter": "python",
   "pygments_lexer": "ipython3",
   "version": "3.11.3"
  }
 },
 "nbformat": 4,
 "nbformat_minor": 5
}
